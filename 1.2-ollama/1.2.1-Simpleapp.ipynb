{
 "cells": [
  {
   "cell_type": "markdown",
   "metadata": {},
   "source": [
    "#### Simple Gen AI APP Using Langchain"
   ]
  },
  {
   "cell_type": "code",
   "execution_count": 1,
   "metadata": {},
   "outputs": [],
   "source": [
    "import os\n",
    "from dotenv import load_dotenv\n",
    "load_dotenv()\n",
    "\n",
    "os.environ['OPENAI_API_KEY']=os.getenv(\"OPENAI_API_KEY\")\n",
    "## Langsmith Tracking\n",
    "os.environ[\"LANGCHAIN_API_KEY\"]=os.getenv(\"LANGCHAIN_API_KEY\")\n",
    "os.environ[\"LANGCHAIN_TRACING_V2\"]=\"true\"\n",
    "os.environ[\"LANGCHAIN_PROJECT\"]=os.getenv(\"LANGCHAIN_PROJECT\")"
   ]
  },
  {
   "cell_type": "code",
   "execution_count": 2,
   "metadata": {},
   "outputs": [
    {
     "name": "stderr",
     "output_type": "stream",
     "text": [
      "USER_AGENT environment variable not set, consider setting it to identify your requests.\n"
     ]
    }
   ],
   "source": [
    "## Data Ingestion--From the website we need to scrape the data\n",
    "from langchain_community.document_loaders import WebBaseLoader"
   ]
  },
  {
   "cell_type": "code",
   "execution_count": 3,
   "metadata": {},
   "outputs": [
    {
     "data": {
      "text/plain": [
       "<langchain_community.document_loaders.web_base.WebBaseLoader at 0x23b7a0a4210>"
      ]
     },
     "execution_count": 3,
     "metadata": {},
     "output_type": "execute_result"
    }
   ],
   "source": [
    "loader=WebBaseLoader(\"https://en.wikipedia.org/wiki/Ghaati\")\n",
    "loader"
   ]
  },
  {
   "cell_type": "code",
   "execution_count": 4,
   "metadata": {},
   "outputs": [
    {
     "data": {
      "text/plain": [
       "[Document(metadata={'source': 'https://en.wikipedia.org/wiki/Ghaati', 'title': 'Ghaati - Wikipedia', 'language': 'en'}, page_content='\\n\\n\\n\\nGhaati - Wikipedia\\n\\n\\n\\n\\n\\n\\n\\n\\n\\n\\n\\n\\n\\n\\n\\n\\n\\n\\n\\n\\n\\n\\n\\n\\n\\n\\n\\n\\n\\n\\nJump to content\\n\\n\\n\\n\\n\\n\\n\\nMain menu\\n\\n\\n\\n\\n\\nMain menu\\nmove to sidebar\\nhide\\n\\n\\n\\n\\t\\tNavigation\\n\\t\\n\\n\\nMain pageContentsCurrent eventsRandom articleAbout WikipediaContact us\\n\\n\\n\\n\\n\\n\\t\\tContribute\\n\\t\\n\\n\\nHelpLearn to editCommunity portalRecent changesUpload fileSpecial pages\\n\\n\\n\\n\\n\\n\\n\\n\\n\\n\\n\\n\\n\\n\\n\\n\\n\\n\\n\\nSearch\\n\\n\\n\\n\\n\\n\\n\\n\\n\\n\\n\\nSearch\\n\\n\\n\\n\\n\\n\\n\\n\\n\\n\\n\\n\\n\\n\\n\\n\\n\\n\\n\\n\\n\\n\\nAppearance\\n\\n\\n\\n\\n\\n\\n\\n\\n\\n\\n\\n\\n\\n\\n\\n\\nDonate\\n\\nCreate account\\n\\nLog in\\n\\n\\n\\n\\n\\n\\n\\n\\nPersonal tools\\n\\n\\n\\n\\n\\nDonate Create account Log in\\n\\n\\n\\n\\n\\n\\t\\tPages for logged out editors learn more\\n\\n\\n\\nContributionsTalk\\n\\n\\n\\n\\n\\n\\n\\n\\n\\n\\n\\n\\n\\n\\n\\n\\n\\n\\n\\n\\n\\n\\n\\n\\n\\n\\n\\n\\nContents\\nmove to sidebar\\nhide\\n\\n\\n\\n\\n(Top)\\n\\n\\n\\n\\n\\n1\\nPlot\\n\\n\\n\\n\\n\\n\\n\\n\\n2\\nCast\\n\\n\\n\\n\\n\\n\\n\\n\\n3\\nProduction\\n\\n\\n\\n\\nToggle Production subsection\\n\\n\\n\\n\\n\\n3.1\\nDevelopment\\n\\n\\n\\n\\n\\n\\n\\n\\n3.2\\nCasting\\n\\n\\n\\n\\n\\n\\n\\n\\n\\n\\n4\\nRelease\\n\\n\\n\\n\\nToggle Release subsection\\n\\n\\n\\n\\n\\n4.1\\nTheatrical\\n\\n\\n\\n\\n\\n\\n\\n\\n4.2\\nHome media\\n\\n\\n\\n\\n\\n\\n\\n\\n\\n\\n5\\nReception\\n\\n\\n\\n\\n\\n\\n\\n\\n6\\nReferences\\n\\n\\n\\n\\n\\n\\n\\n\\n7\\nExternal links\\n\\n\\n\\n\\n\\n\\n\\n\\n\\n\\n\\n\\n\\n\\n\\n\\n\\n\\nToggle the table of contents\\n\\n\\n\\n\\n\\n\\n\\nGhaati\\n\\n\\n\\n1 language\\n\\n\\n\\n\\nతెలుగు\\n\\nEdit links\\n\\n\\n\\n\\n\\n\\n\\n\\n\\n\\n\\nArticleTalk\\n\\n\\n\\n\\n\\nEnglish\\n\\n\\n\\n\\n\\n\\n\\n\\n\\n\\n\\n\\n\\n\\n\\n\\n\\nReadEditView history\\n\\n\\n\\n\\n\\n\\n\\nTools\\n\\n\\n\\n\\n\\nTools\\nmove to sidebar\\nhide\\n\\n\\n\\n\\t\\tActions\\n\\t\\n\\n\\nReadEditView history\\n\\n\\n\\n\\n\\n\\t\\tGeneral\\n\\t\\n\\n\\nWhat links hereRelated changesUpload filePermanent linkPage informationCite this pageGet shortened URLDownload QR code\\n\\n\\n\\n\\n\\n\\t\\tPrint/export\\n\\t\\n\\n\\nDownload as PDFPrintable version\\n\\n\\n\\n\\n\\n\\t\\tIn other projects\\n\\t\\n\\n\\nWikidata item\\n\\n\\n\\n\\n\\n\\n\\n\\n\\n\\n\\n\\n\\n\\n\\n\\n\\n\\n\\n\\n\\nAppearance\\nmove to sidebar\\nhide\\n\\n\\n\\n\\n\\n\\n\\n\\n\\n\\nFrom Wikipedia, the free encyclopedia\\n\\n\\n2025 Indian film by Krish Jagarlamudi\\n\\n\\nGhaatiTheatrical release posterDirected byKrish JagarlamudiWritten byChintakindi Srinivas RaoProduced by\\nYeduguru Rajeev Reddy\\nSaibabu Jagarlamudi\\nStarring\\nAnushka Shetty\\nVikram Prabhu\\nCinematographyManojh Reddy KatasaniEdited byChanakya Reddy ToorupuMusic byNagavelli Vidya SagarProductioncompanyFirst Frame EntertainmentsRelease date\\n5\\xa0September\\xa02025\\xa0(2025-09-05)\\nRunning time155 minutes[1]CountryIndiaLanguageTelugu\\nGhaati is a 2025 Indian Telugu-language action crime drama film. It was directed by Krish Jagarlamudi. Yeduguru Rajeev Reddy and Saibabu Jagarlamudi produced the film under First Frame Entertainments, and it was presented by UV Creations. It stars Anushka Shetty in the lead role, alongside Vikram Prabhu, Chaitanya Rao Madadi, and Jagapathi Babu.[2][3][4]\\nThe film was released on 5 September 2025 to mixed reviews from critics.[5]\\n\\n\\nPlot[edit]\\nThis section needs expansion with: September 2025. You can help by adding to it.  (September 2025)\\nThe story of a victim who turns into a criminal and later becomes a legend.\\n\\nCast[edit]\\nAnushka Shetty as Sheelavathi, Desi Raju\\'s cousin\\nVikram Prabhu as Desi Raju, Sheelavathi\\'s cousin\\nChaitanya Rao Madadi as Kundhul Naidu, Kaashtal Naidu\\'s younger brother\\nJagapathi Babu as Vishwadeep Rao, Police Commissioner\\nRaghav Rudra Mulpuru\\nJisshu Sengupta as Mr. Mandhani, a business tycoon\\nJohn Vijay as Inspector Bhupathi Raja\\nRavindra Vijay as Kaashtal Naidu, head of a Drug Cartel and Kundhul Naidu\\'s elder brother\\nDevika Priyadarshini\\nLarissa Bonesi as Nirali Roy, elite lobbyist and Mr. Mandhani\\'s secretary\\nVTV Ganesh as M.P. Bojjayya\\nJwala Koti as Koti\\nSatya as Bhupesh\\nRaju Sundaram as Pebbuli\\nRavi Mariya as Siddhappa Naidu\\nProduction[edit]\\nDevelopment[edit]\\nOn 19 March 2024, the project was announced at an Amazon Prime Video showcase event with the release of the first look.[6][7] On 7 November 2024, the makers released a Poster and 47-second glimpse of the film on the occasion of Anushka Shetty\\'s birthday.[8][9][10] The makers announced the release date of the film with an intriguing video on 15 December 2024.[11][12]\\n\\nCasting[edit]\\nOn 15 January 2025, an announcement was made regarding the debut of Vikram Prabhu in Telugu cinema portraying the role of Desi Raju.[13]\\n\\nRelease[edit]\\nTheatrical[edit]\\nGhaati was released on 5 September 2025.[14] The film was originally planned to release on 18 April 2025, but was postponed to 11 July 2025, before being indefinitely postponed to it\\'s current date.[15][16][17][18][19]\\n\\nHome media[edit]\\nThe film began streaming on Amazon Prime Video from 26 September 2025.[20]\\n\\nReception[edit]\\nThe film received mixed reviews from critics.[21]\\n\\nReferences[edit]\\n\\n^ \"Ghaati (15)\". British Board of Film Classification. 2 September 2025. Retrieved 2 September 2025.\\n\\n^ \"Anushka Shetty-starrer \\'Ghaati\\' to release in April\". Deccan Herald. 15 December 2024.\\n\\n^ \"Anushka Shetty\\'s to next star in Ghaati\". Cinema Express. 20 March 2024.\\n\\n^ \"Anushka Shetty to woo pan India viewers\". Deccan Chronicle. 16 December 2024.\\n\\n^ \"Ghaati Trailer OUT: Anushka Shetty Vows To Seek Revenge In Krish Jagarlamudi\\'s Film\". Times Now. 6 August 2025. Retrieved 6 August 2025.\\n\\n^ \"Anushka Shetty and Krish Jagarlamudi team up again for \\'Ghaati\\'\". The Hindu. 20 March 2024. Archived from the original on 24 March 2024. Retrieved 16 December 2024.\\n\\n^ \"कतानार की एक्ट्रेस अब घाटी में आएगी नजर, डर पर जीत पाने के बाद रखेगी ड्रग माफिया की दुनिया में कदम\". NDTV.\\n\\n^ \"Anushka Shetty looks as dangerous as her knife in Krish Jagarlamudi\\'s Ghaati\". India Today. 7 November 2024.\\n\\n^ \"Ghaati glimpse: With blood-spattered face, WATCH Anushka Shetty\\'s ruthless avatar\". HT Media.\\n\\n^ \"Anushka Shetty\\'s powerful first look smoking a cigar unveiled in Krish\\'s \\'Ghaati\\'\". The Times of India. 7 November 2024.\\n\\n^ \"Anushka Shetty\\'s Ghaati to release in theatres in April 2025. Watch teaser\". India Today. 15 December 2024.\\n\\n^ \"Anushka Shetty-starrer \\'Ghaati\\' to release on April 18, 2025\". The Statesman. 16 December 2024.\\n\\n^ Harsh, B. H. (15 January 2025). \"Vikram Prabhu to play Desi Reju in Ghaati; makers unveil character poster\". Cinema Express. Retrieved 15 January 2025.\\n\\n^ Harsh, B. H. (6 August 2025). \"Anushka Shetty\\'s Ghaati set to release on this date; makers unveil new trailer\". Cinema Express. Retrieved 6 August 2025.\\n\\n^ \"Anushka Shetty Looks Fierce in New \\'Ghaati\\' Poster, Film to Release on THIS Date\". News 18.\\n\\n^ \"Anushka Shetty\\'s upcoming film set to release in theatres\". The Telegraph (India).\\n\\n^ 123telugu (15 March 2025). \"Buzz: Anushka\\'s Ghaati postponed indefinitely\". 123telugu.com. Retrieved 15 April 2025.{{cite web}}:  CS1 maint: numeric names: authors list (link)\\n\\n^ Sistu, Suhas (2 June 2025). \"Anushka Shetty\\'s \\'Ghaati\\' locks July 11 release date\". www.thehansindia.com. Retrieved 2 June 2025.\\n\\n^ \"Anushka Shetty\\'s Ghaati release gets postponed again, producers issue statement\". India Today. 5 July 2025. Retrieved 6 July 2025.\\n\\n^ \"Ghaati OTT release date: When and where to watch Anushka Shetty\\'s crime action drama\". Hindustan Times. Retrieved 25 September 2025.\\n\\n^ \"Madharaasi vs Ghaati box office Day 1: Sivakarthikeyan-Murugadoss film races ahead\". India Today. 6 September 2025. Retrieved 6 September 2025.\\n\\n\\nExternal links[edit]\\nGhaati at IMDb\\nvteFilms directed by Krish Jagarlamudi\\nGamyam (2008)\\nVedam (2010)\\nVaanam (2011)\\nKrishnam Vande Jagadgurum (2012)\\nGabbar Is Back (2015)\\nKanche (2015)\\nGautamiputra Satakarni (2017)\\nManikarnika: The Queen of Jhansi (2019)\\nNTR: Kathanayakudu (2019)\\nNTR: Mahanayakudu (2019)\\nKonda Polam (2021)\\nHari Hara Veera Mallu (2025)\\n\\n\\n\\n\\n\\nRetrieved from \"https://en.wikipedia.org/w/index.php?title=Ghaati&oldid=1313435731\"\\nCategories: 2025 filmsIndian crime action filmsIndian mystery thriller films2020s Telugu-language films2020s mystery thriller filmsFilms shot in Hyderabad, IndiaFilms directed by Krish JagarlamudiHidden categories: CS1 maint: numeric names: authors listArticles with short descriptionShort description is different from WikidataUse dmy dates from January 2024Template film date with 1 release dateArticles to be expanded from September 2025All articles to be expanded\\n\\n\\n\\n\\n\\n\\n This page was last edited on 26 September 2025, at 06:21\\xa0(UTC).\\nText is available under the Creative Commons Attribution-ShareAlike 4.0 License;\\nadditional terms may apply. By using this site, you agree to the Terms of Use and Privacy Policy. Wikipedia® is a registered trademark of the Wikimedia Foundation, Inc., a non-profit organization.\\n\\n\\nPrivacy policy\\nAbout Wikipedia\\nDisclaimers\\nContact Wikipedia\\nCode of Conduct\\nDevelopers\\nStatistics\\nCookie statement\\nMobile view\\n\\n\\n\\n\\n\\n\\n\\n\\n\\n\\n\\n\\n\\n\\nSearch\\n\\n\\n\\n\\n\\n\\n\\n\\n\\n\\n\\n\\n\\nSearch\\n\\n\\n\\n\\n\\n\\n\\n\\n\\nToggle the table of contents\\n\\n\\n\\n\\n\\n\\n\\nGhaati\\n\\n\\n\\n\\n\\n\\n\\n\\n\\n\\n\\n\\n\\n\\n\\n\\n\\n\\n\\n\\n\\n\\n\\n\\n\\n\\n\\n\\n\\n\\n\\n1 language\\n\\n\\nAdd topic\\n\\n\\n\\n\\n\\n\\n\\n\\n\\n\\n\\n\\n\\n\\n\\n\\n')]"
      ]
     },
     "execution_count": 4,
     "metadata": {},
     "output_type": "execute_result"
    }
   ],
   "source": [
    "docs=loader.load()\n",
    "docs"
   ]
  },
  {
   "cell_type": "code",
   "execution_count": 5,
   "metadata": {},
   "outputs": [],
   "source": [
    "### Load Data--> Docs-->Divide our Docuemnts into chunks dcouments-->text-->vectors-->Vector Embeddings--->Vector Store DB\n",
    "from langchain_text_splitters import RecursiveCharacterTextSplitter\n",
    "\n",
    "text_splitter=RecursiveCharacterTextSplitter(chunk_size=1000,chunk_overlap=200)\n",
    "documents=text_splitter.split_documents(docs)"
   ]
  },
  {
   "cell_type": "code",
   "execution_count": 6,
   "metadata": {},
   "outputs": [
    {
     "data": {
      "text/plain": [
       "[Document(metadata={'source': 'https://en.wikipedia.org/wiki/Ghaati', 'title': 'Ghaati - Wikipedia', 'language': 'en'}, page_content='Ghaati - Wikipedia\\n\\n\\n\\n\\n\\n\\n\\n\\n\\n\\n\\n\\n\\n\\n\\n\\n\\n\\n\\n\\n\\n\\n\\n\\n\\n\\n\\n\\n\\n\\nJump to content\\n\\n\\n\\n\\n\\n\\n\\nMain menu\\n\\n\\n\\n\\n\\nMain menu\\nmove to sidebar\\nhide\\n\\n\\n\\n\\t\\tNavigation\\n\\t\\n\\n\\nMain pageContentsCurrent eventsRandom articleAbout WikipediaContact us\\n\\n\\n\\n\\n\\n\\t\\tContribute\\n\\t\\n\\n\\nHelpLearn to editCommunity portalRecent changesUpload fileSpecial pages\\n\\n\\n\\n\\n\\n\\n\\n\\n\\n\\n\\n\\n\\n\\n\\n\\n\\n\\n\\nSearch\\n\\n\\n\\n\\n\\n\\n\\n\\n\\n\\n\\nSearch\\n\\n\\n\\n\\n\\n\\n\\n\\n\\n\\n\\n\\n\\n\\n\\n\\n\\n\\n\\n\\n\\n\\nAppearance\\n\\n\\n\\n\\n\\n\\n\\n\\n\\n\\n\\n\\n\\n\\n\\n\\nDonate\\n\\nCreate account\\n\\nLog in\\n\\n\\n\\n\\n\\n\\n\\n\\nPersonal tools\\n\\n\\n\\n\\n\\nDonate Create account Log in\\n\\n\\n\\n\\n\\n\\t\\tPages for logged out editors learn more\\n\\n\\n\\nContributionsTalk\\n\\n\\n\\n\\n\\n\\n\\n\\n\\n\\n\\n\\n\\n\\n\\n\\n\\n\\n\\n\\n\\n\\n\\n\\n\\n\\n\\n\\nContents\\nmove to sidebar\\nhide\\n\\n\\n\\n\\n(Top)\\n\\n\\n\\n\\n\\n1\\nPlot\\n\\n\\n\\n\\n\\n\\n\\n\\n2\\nCast\\n\\n\\n\\n\\n\\n\\n\\n\\n3\\nProduction\\n\\n\\n\\n\\nToggle Production subsection\\n\\n\\n\\n\\n\\n3.1\\nDevelopment\\n\\n\\n\\n\\n\\n\\n\\n\\n3.2\\nCasting\\n\\n\\n\\n\\n\\n\\n\\n\\n\\n\\n4\\nRelease\\n\\n\\n\\n\\nToggle Release subsection\\n\\n\\n\\n\\n\\n4.1\\nTheatrical\\n\\n\\n\\n\\n\\n\\n\\n\\n4.2\\nHome media\\n\\n\\n\\n\\n\\n\\n\\n\\n\\n\\n5\\nReception\\n\\n\\n\\n\\n\\n\\n\\n\\n6\\nReferences\\n\\n\\n\\n\\n\\n\\n\\n\\n7\\nExternal links\\n\\n\\n\\n\\n\\n\\n\\n\\n\\n\\n\\n\\n\\n\\n\\n\\n\\n\\nToggle the table of contents\\n\\n\\n\\n\\n\\n\\n\\nGhaati\\n\\n\\n\\n1 language\\n\\n\\n\\n\\nతెలుగు'),\n",
       " Document(metadata={'source': 'https://en.wikipedia.org/wiki/Ghaati', 'title': 'Ghaati - Wikipedia', 'language': 'en'}, page_content='4.1\\nTheatrical\\n\\n\\n\\n\\n\\n\\n\\n\\n4.2\\nHome media\\n\\n\\n\\n\\n\\n\\n\\n\\n\\n\\n5\\nReception\\n\\n\\n\\n\\n\\n\\n\\n\\n6\\nReferences\\n\\n\\n\\n\\n\\n\\n\\n\\n7\\nExternal links\\n\\n\\n\\n\\n\\n\\n\\n\\n\\n\\n\\n\\n\\n\\n\\n\\n\\n\\nToggle the table of contents\\n\\n\\n\\n\\n\\n\\n\\nGhaati\\n\\n\\n\\n1 language\\n\\n\\n\\n\\nతెలుగు\\n\\nEdit links\\n\\n\\n\\n\\n\\n\\n\\n\\n\\n\\n\\nArticleTalk\\n\\n\\n\\n\\n\\nEnglish\\n\\n\\n\\n\\n\\n\\n\\n\\n\\n\\n\\n\\n\\n\\n\\n\\n\\nReadEditView history\\n\\n\\n\\n\\n\\n\\n\\nTools\\n\\n\\n\\n\\n\\nTools\\nmove to sidebar\\nhide\\n\\n\\n\\n\\t\\tActions\\n\\t\\n\\n\\nReadEditView history\\n\\n\\n\\n\\n\\n\\t\\tGeneral\\n\\t\\n\\n\\nWhat links hereRelated changesUpload filePermanent linkPage informationCite this pageGet shortened URLDownload QR code\\n\\n\\n\\n\\n\\n\\t\\tPrint/export\\n\\t\\n\\n\\nDownload as PDFPrintable version\\n\\n\\n\\n\\n\\n\\t\\tIn other projects\\n\\t\\n\\n\\nWikidata item\\n\\n\\n\\n\\n\\n\\n\\n\\n\\n\\n\\n\\n\\n\\n\\n\\n\\n\\n\\n\\n\\nAppearance\\nmove to sidebar\\nhide\\n\\n\\n\\n\\n\\n\\n\\n\\n\\n\\nFrom Wikipedia, the free encyclopedia\\n\\n\\n2025 Indian film by Krish Jagarlamudi'),\n",
       " Document(metadata={'source': 'https://en.wikipedia.org/wiki/Ghaati', 'title': 'Ghaati - Wikipedia', 'language': 'en'}, page_content='Appearance\\nmove to sidebar\\nhide\\n\\n\\n\\n\\n\\n\\n\\n\\n\\n\\nFrom Wikipedia, the free encyclopedia\\n\\n\\n2025 Indian film by Krish Jagarlamudi\\n\\n\\nGhaatiTheatrical release posterDirected byKrish JagarlamudiWritten byChintakindi Srinivas RaoProduced by\\nYeduguru Rajeev Reddy\\nSaibabu Jagarlamudi\\nStarring\\nAnushka Shetty\\nVikram Prabhu\\nCinematographyManojh Reddy KatasaniEdited byChanakya Reddy ToorupuMusic byNagavelli Vidya SagarProductioncompanyFirst Frame EntertainmentsRelease date\\n5\\xa0September\\xa02025\\xa0(2025-09-05)\\nRunning time155 minutes[1]CountryIndiaLanguageTelugu\\nGhaati is a 2025 Indian Telugu-language action crime drama film. It was directed by Krish Jagarlamudi. Yeduguru Rajeev Reddy and Saibabu Jagarlamudi produced the film under First Frame Entertainments, and it was presented by UV Creations. It stars Anushka Shetty in the lead role, alongside Vikram Prabhu, Chaitanya Rao Madadi, and Jagapathi Babu.[2][3][4]\\nThe film was released on 5 September 2025 to mixed reviews from critics.[5]'),\n",
       " Document(metadata={'source': 'https://en.wikipedia.org/wiki/Ghaati', 'title': 'Ghaati - Wikipedia', 'language': 'en'}, page_content='Plot[edit]\\nThis section needs expansion with: September 2025. You can help by adding to it.  (September 2025)\\nThe story of a victim who turns into a criminal and later becomes a legend.'),\n",
       " Document(metadata={'source': 'https://en.wikipedia.org/wiki/Ghaati', 'title': 'Ghaati - Wikipedia', 'language': 'en'}, page_content=\"Cast[edit]\\nAnushka Shetty as Sheelavathi, Desi Raju's cousin\\nVikram Prabhu as Desi Raju, Sheelavathi's cousin\\nChaitanya Rao Madadi as Kundhul Naidu, Kaashtal Naidu's younger brother\\nJagapathi Babu as Vishwadeep Rao, Police Commissioner\\nRaghav Rudra Mulpuru\\nJisshu Sengupta as Mr. Mandhani, a business tycoon\\nJohn Vijay as Inspector Bhupathi Raja\\nRavindra Vijay as Kaashtal Naidu, head of a Drug Cartel and Kundhul Naidu's elder brother\\nDevika Priyadarshini\\nLarissa Bonesi as Nirali Roy, elite lobbyist and Mr. Mandhani's secretary\\nVTV Ganesh as M.P. Bojjayya\\nJwala Koti as Koti\\nSatya as Bhupesh\\nRaju Sundaram as Pebbuli\\nRavi Mariya as Siddhappa Naidu\\nProduction[edit]\\nDevelopment[edit]\"),\n",
       " Document(metadata={'source': 'https://en.wikipedia.org/wiki/Ghaati', 'title': 'Ghaati - Wikipedia', 'language': 'en'}, page_content=\"VTV Ganesh as M.P. Bojjayya\\nJwala Koti as Koti\\nSatya as Bhupesh\\nRaju Sundaram as Pebbuli\\nRavi Mariya as Siddhappa Naidu\\nProduction[edit]\\nDevelopment[edit]\\nOn 19 March 2024, the project was announced at an Amazon Prime Video showcase event with the release of the first look.[6][7] On 7 November 2024, the makers released a Poster and 47-second glimpse of the film on the occasion of Anushka Shetty's birthday.[8][9][10] The makers announced the release date of the film with an intriguing video on 15 December 2024.[11][12]\"),\n",
       " Document(metadata={'source': 'https://en.wikipedia.org/wiki/Ghaati', 'title': 'Ghaati - Wikipedia', 'language': 'en'}, page_content='Casting[edit]\\nOn 15 January 2025, an announcement was made regarding the debut of Vikram Prabhu in Telugu cinema portraying the role of Desi Raju.[13]\\n\\nRelease[edit]\\nTheatrical[edit]\\nGhaati was released on 5 September 2025.[14] The film was originally planned to release on 18 April 2025, but was postponed to 11 July 2025, before being indefinitely postponed to it\\'s current date.[15][16][17][18][19]\\n\\nHome media[edit]\\nThe film began streaming on Amazon Prime Video from 26 September 2025.[20]\\n\\nReception[edit]\\nThe film received mixed reviews from critics.[21]\\n\\nReferences[edit]\\n\\n^ \"Ghaati (15)\". British Board of Film Classification. 2 September 2025. Retrieved 2 September 2025.\\n\\n^ \"Anushka Shetty-starrer \\'Ghaati\\' to release in April\". Deccan Herald. 15 December 2024.\\n\\n^ \"Anushka Shetty\\'s to next star in Ghaati\". Cinema Express. 20 March 2024.\\n\\n^ \"Anushka Shetty to woo pan India viewers\". Deccan Chronicle. 16 December 2024.'),\n",
       " Document(metadata={'source': 'https://en.wikipedia.org/wiki/Ghaati', 'title': 'Ghaati - Wikipedia', 'language': 'en'}, page_content='^ \"Anushka Shetty\\'s to next star in Ghaati\". Cinema Express. 20 March 2024.\\n\\n^ \"Anushka Shetty to woo pan India viewers\". Deccan Chronicle. 16 December 2024.\\n\\n^ \"Ghaati Trailer OUT: Anushka Shetty Vows To Seek Revenge In Krish Jagarlamudi\\'s Film\". Times Now. 6 August 2025. Retrieved 6 August 2025.\\n\\n^ \"Anushka Shetty and Krish Jagarlamudi team up again for \\'Ghaati\\'\". The Hindu. 20 March 2024. Archived from the original on 24 March 2024. Retrieved 16 December 2024.\\n\\n^ \"कतानार की एक्ट्रेस अब घाटी में आएगी नजर, डर पर जीत पाने के बाद रखेगी ड्रग माफिया की दुनिया में कदम\". NDTV.\\n\\n^ \"Anushka Shetty looks as dangerous as her knife in Krish Jagarlamudi\\'s Ghaati\". India Today. 7 November 2024.\\n\\n^ \"Ghaati glimpse: With blood-spattered face, WATCH Anushka Shetty\\'s ruthless avatar\". HT Media.\\n\\n^ \"Anushka Shetty\\'s powerful first look smoking a cigar unveiled in Krish\\'s \\'Ghaati\\'\". The Times of India. 7 November 2024.'),\n",
       " Document(metadata={'source': 'https://en.wikipedia.org/wiki/Ghaati', 'title': 'Ghaati - Wikipedia', 'language': 'en'}, page_content='^ \"Anushka Shetty\\'s powerful first look smoking a cigar unveiled in Krish\\'s \\'Ghaati\\'\". The Times of India. 7 November 2024.\\n\\n^ \"Anushka Shetty\\'s Ghaati to release in theatres in April 2025. Watch teaser\". India Today. 15 December 2024.\\n\\n^ \"Anushka Shetty-starrer \\'Ghaati\\' to release on April 18, 2025\". The Statesman. 16 December 2024.\\n\\n^ Harsh, B. H. (15 January 2025). \"Vikram Prabhu to play Desi Reju in Ghaati; makers unveil character poster\". Cinema Express. Retrieved 15 January 2025.\\n\\n^ Harsh, B. H. (6 August 2025). \"Anushka Shetty\\'s Ghaati set to release on this date; makers unveil new trailer\". Cinema Express. Retrieved 6 August 2025.\\n\\n^ \"Anushka Shetty Looks Fierce in New \\'Ghaati\\' Poster, Film to Release on THIS Date\". News 18.\\n\\n^ \"Anushka Shetty\\'s upcoming film set to release in theatres\". The Telegraph (India).'),\n",
       " Document(metadata={'source': 'https://en.wikipedia.org/wiki/Ghaati', 'title': 'Ghaati - Wikipedia', 'language': 'en'}, page_content='^ \"Anushka Shetty Looks Fierce in New \\'Ghaati\\' Poster, Film to Release on THIS Date\". News 18.\\n\\n^ \"Anushka Shetty\\'s upcoming film set to release in theatres\". The Telegraph (India).\\n\\n^ 123telugu (15 March 2025). \"Buzz: Anushka\\'s Ghaati postponed indefinitely\". 123telugu.com. Retrieved 15 April 2025.{{cite web}}:  CS1 maint: numeric names: authors list (link)\\n\\n^ Sistu, Suhas (2 June 2025). \"Anushka Shetty\\'s \\'Ghaati\\' locks July 11 release date\". www.thehansindia.com. Retrieved 2 June 2025.\\n\\n^ \"Anushka Shetty\\'s Ghaati release gets postponed again, producers issue statement\". India Today. 5 July 2025. Retrieved 6 July 2025.\\n\\n^ \"Ghaati OTT release date: When and where to watch Anushka Shetty\\'s crime action drama\". Hindustan Times. Retrieved 25 September 2025.\\n\\n^ \"Madharaasi vs Ghaati box office Day 1: Sivakarthikeyan-Murugadoss film races ahead\". India Today. 6 September 2025. Retrieved 6 September 2025.'),\n",
       " Document(metadata={'source': 'https://en.wikipedia.org/wiki/Ghaati', 'title': 'Ghaati - Wikipedia', 'language': 'en'}, page_content='^ \"Madharaasi vs Ghaati box office Day 1: Sivakarthikeyan-Murugadoss film races ahead\". India Today. 6 September 2025. Retrieved 6 September 2025.\\n\\n\\nExternal links[edit]\\nGhaati at IMDb\\nvteFilms directed by Krish Jagarlamudi\\nGamyam (2008)\\nVedam (2010)\\nVaanam (2011)\\nKrishnam Vande Jagadgurum (2012)\\nGabbar Is Back (2015)\\nKanche (2015)\\nGautamiputra Satakarni (2017)\\nManikarnika: The Queen of Jhansi (2019)\\nNTR: Kathanayakudu (2019)\\nNTR: Mahanayakudu (2019)\\nKonda Polam (2021)\\nHari Hara Veera Mallu (2025)'),\n",
       " Document(metadata={'source': 'https://en.wikipedia.org/wiki/Ghaati', 'title': 'Ghaati - Wikipedia', 'language': 'en'}, page_content='Retrieved from \"https://en.wikipedia.org/w/index.php?title=Ghaati&oldid=1313435731\"\\nCategories: 2025 filmsIndian crime action filmsIndian mystery thriller films2020s Telugu-language films2020s mystery thriller filmsFilms shot in Hyderabad, IndiaFilms directed by Krish JagarlamudiHidden categories: CS1 maint: numeric names: authors listArticles with short descriptionShort description is different from WikidataUse dmy dates from January 2024Template film date with 1 release dateArticles to be expanded from September 2025All articles to be expanded\\n\\n\\n\\n\\n\\n\\n This page was last edited on 26 September 2025, at 06:21\\xa0(UTC).\\nText is available under the Creative Commons Attribution-ShareAlike 4.0 License;\\nadditional terms may apply. By using this site, you agree to the Terms of Use and Privacy Policy. Wikipedia® is a registered trademark of the Wikimedia Foundation, Inc., a non-profit organization.'),\n",
       " Document(metadata={'source': 'https://en.wikipedia.org/wiki/Ghaati', 'title': 'Ghaati - Wikipedia', 'language': 'en'}, page_content='Privacy policy\\nAbout Wikipedia\\nDisclaimers\\nContact Wikipedia\\nCode of Conduct\\nDevelopers\\nStatistics\\nCookie statement\\nMobile view\\n\\n\\n\\n\\n\\n\\n\\n\\n\\n\\n\\n\\n\\n\\nSearch\\n\\n\\n\\n\\n\\n\\n\\n\\n\\n\\n\\n\\n\\nSearch\\n\\n\\n\\n\\n\\n\\n\\n\\n\\nToggle the table of contents\\n\\n\\n\\n\\n\\n\\n\\nGhaati\\n\\n\\n\\n\\n\\n\\n\\n\\n\\n\\n\\n\\n\\n\\n\\n\\n\\n\\n\\n\\n\\n\\n\\n\\n\\n\\n\\n\\n\\n\\n\\n1 language\\n\\n\\nAdd topic')]"
      ]
     },
     "execution_count": 6,
     "metadata": {},
     "output_type": "execute_result"
    }
   ],
   "source": [
    "documents"
   ]
  },
  {
   "cell_type": "code",
   "execution_count": 7,
   "metadata": {},
   "outputs": [
    {
     "name": "stderr",
     "output_type": "stream",
     "text": [
      "c:\\Users\\DeLL\\Documents\\GitHub\\OpenAI-and-Ollama\\venv\\Lib\\site-packages\\tqdm\\auto.py:21: TqdmWarning: IProgress not found. Please update jupyter and ipywidgets. See https://ipywidgets.readthedocs.io/en/stable/user_install.html\n",
      "  from .autonotebook import tqdm as notebook_tqdm\n"
     ]
    }
   ],
   "source": [
    "from langchain_openai import OpenAIEmbeddings\n",
    "embeddings=OpenAIEmbeddings()"
   ]
  },
  {
   "cell_type": "code",
   "execution_count": 8,
   "metadata": {},
   "outputs": [],
   "source": [
    "from langchain_community.vectorstores import FAISS\n",
    "vectorstoredb=FAISS.from_documents(documents,embeddings)"
   ]
  },
  {
   "cell_type": "code",
   "execution_count": 9,
   "metadata": {},
   "outputs": [
    {
     "data": {
      "text/plain": [
       "<langchain_community.vectorstores.faiss.FAISS at 0x23b0c9f7d50>"
      ]
     },
     "execution_count": 9,
     "metadata": {},
     "output_type": "execute_result"
    }
   ],
   "source": [
    "vectorstoredb"
   ]
  },
  {
   "cell_type": "code",
   "execution_count": 10,
   "metadata": {},
   "outputs": [
    {
     "data": {
      "text/plain": [
       "\"VTV Ganesh as M.P. Bojjayya\\nJwala Koti as Koti\\nSatya as Bhupesh\\nRaju Sundaram as Pebbuli\\nRavi Mariya as Siddhappa Naidu\\nProduction[edit]\\nDevelopment[edit]\\nOn 19 March 2024, the project was announced at an Amazon Prime Video showcase event with the release of the first look.[6][7] On 7 November 2024, the makers released a Poster and 47-second glimpse of the film on the occasion of Anushka Shetty's birthday.[8][9][10] The makers announced the release date of the film with an intriguing video on 15 December 2024.[11][12]\""
      ]
     },
     "execution_count": 10,
     "metadata": {},
     "output_type": "execute_result"
    }
   ],
   "source": [
    "## Query From a vector db\n",
    "query=\"On 19 March 2024, the project was announced at an Amazon Prime Video\"\n",
    "result=vectorstoredb.similarity_search(query)\n",
    "result[0].page_content"
   ]
  },
  {
   "cell_type": "code",
   "execution_count": 11,
   "metadata": {},
   "outputs": [],
   "source": [
    "from langchain_openai import ChatOpenAI\n",
    "llm=ChatOpenAI(model=\"gpt-4o\")"
   ]
  },
  {
   "cell_type": "code",
   "execution_count": 12,
   "metadata": {},
   "outputs": [
    {
     "data": {
      "text/plain": [
       "RunnableBinding(bound=RunnableBinding(bound=RunnableAssign(mapper={\n",
       "  context: RunnableLambda(format_docs)\n",
       "}), kwargs={}, config={'run_name': 'format_inputs'}, config_factories=[])\n",
       "| ChatPromptTemplate(input_variables=['context'], input_types={}, partial_variables={}, messages=[HumanMessagePromptTemplate(prompt=PromptTemplate(input_variables=['context'], input_types={}, partial_variables={}, template='\\nAnswer the following question based only on the provided context:\\n<context>\\n{context}\\n</context>\\n\\n\\n'), additional_kwargs={})])\n",
       "| ChatOpenAI(client=<openai.resources.chat.completions.completions.Completions object at 0x0000023B0B7EC2D0>, async_client=<openai.resources.chat.completions.completions.AsyncCompletions object at 0x0000023B0C418D90>, root_client=<openai.OpenAI object at 0x0000023B0C40EA50>, root_async_client=<openai.AsyncOpenAI object at 0x0000023B0C40CD90>, model_name='gpt-4o', model_kwargs={}, openai_api_key=SecretStr('**********'))\n",
       "| StrOutputParser(), kwargs={}, config={'run_name': 'stuff_documents_chain'}, config_factories=[])"
      ]
     },
     "execution_count": 12,
     "metadata": {},
     "output_type": "execute_result"
    }
   ],
   "source": [
    "## Retrieval Chain, Document chain\n",
    "\n",
    "from langchain.chains.combine_documents import create_stuff_documents_chain\n",
    "from langchain_core.prompts import ChatPromptTemplate\n",
    "\n",
    "prompt=ChatPromptTemplate.from_template(\n",
    "    \"\"\"\n",
    "Answer the following question based only on the provided context:\n",
    "<context>\n",
    "{context}\n",
    "</context>\n",
    "\n",
    "\n",
    "\"\"\"\n",
    ")\n",
    "\n",
    "document_chain=create_stuff_documents_chain(llm,prompt)\n",
    "document_chain"
   ]
  },
  {
   "cell_type": "code",
   "execution_count": 13,
   "metadata": {},
   "outputs": [
    {
     "data": {
      "text/plain": [
       "\"Based on the provided context, what can be inferred about the events surrounding the film's release announcements?\\n\\n1. The project related to the film was first announced on 19 March 2024 during an Amazon Prime Video showcase event, along with the release of the film's first look.\\n\\n2. On 7 November 2024, in celebration of Anushka Shetty's birthday, the filmmakers released a poster and a 47-second glimpse of the film.\\n\\n3. The official release date of the film was announced on 15 December 2024, accompanied by an intriguing video.\""
      ]
     },
     "execution_count": 13,
     "metadata": {},
     "output_type": "execute_result"
    }
   ],
   "source": [
    "from langchain_core.documents import Document\n",
    "document_chain.invoke({\n",
    "    \"input\":\"On 19 March 2024, the project was announced at an Amazon Prime Video\",\n",
    "    \"context\":[Document(page_content=\"On 19 March 2024, the project was announced at an Amazon Prime Video showcase event with the release of the first look.[6][7] On 7 November 2024, the makers released a Poster and 47-second glimpse of the film on the occasion of Anushka Shetty's birthday.[8][9][10] The makers announced the release date of the film with an intriguing video on 15 December 2024.[11][12]\")]\n",
    "})"
   ]
  },
  {
   "cell_type": "markdown",
   "metadata": {},
   "source": [
    "However, we want the documents to first come from the retriever we just set up. That way, we can use the retriever to dynamically select the most relevant documents and pass those in for a given question."
   ]
  },
  {
   "cell_type": "code",
   "execution_count": 14,
   "metadata": {},
   "outputs": [
    {
     "data": {
      "text/plain": [
       "<langchain_community.vectorstores.faiss.FAISS at 0x23b0c9f7d50>"
      ]
     },
     "execution_count": 14,
     "metadata": {},
     "output_type": "execute_result"
    }
   ],
   "source": [
    "### Input--->Retriever--->vectorstoredb\n",
    "\n",
    "vectorstoredb"
   ]
  },
  {
   "cell_type": "code",
   "execution_count": 15,
   "metadata": {},
   "outputs": [],
   "source": [
    "retriever=vectorstoredb.as_retriever()\n",
    "from langchain.chains import create_retrieval_chain\n",
    "retrieval_chain=create_retrieval_chain(retriever,document_chain)\n"
   ]
  },
  {
   "cell_type": "code",
   "execution_count": 16,
   "metadata": {},
   "outputs": [
    {
     "data": {
      "text/plain": [
       "RunnableBinding(bound=RunnableAssign(mapper={\n",
       "  context: RunnableBinding(bound=RunnableLambda(lambda x: x['input'])\n",
       "           | VectorStoreRetriever(tags=['FAISS', 'OpenAIEmbeddings'], vectorstore=<langchain_community.vectorstores.faiss.FAISS object at 0x0000023B0C9F7D50>, search_kwargs={}), kwargs={}, config={'run_name': 'retrieve_documents'}, config_factories=[])\n",
       "})\n",
       "| RunnableAssign(mapper={\n",
       "    answer: RunnableBinding(bound=RunnableBinding(bound=RunnableAssign(mapper={\n",
       "              context: RunnableLambda(format_docs)\n",
       "            }), kwargs={}, config={'run_name': 'format_inputs'}, config_factories=[])\n",
       "            | ChatPromptTemplate(input_variables=['context'], input_types={}, partial_variables={}, messages=[HumanMessagePromptTemplate(prompt=PromptTemplate(input_variables=['context'], input_types={}, partial_variables={}, template='\\nAnswer the following question based only on the provided context:\\n<context>\\n{context}\\n</context>\\n\\n\\n'), additional_kwargs={})])\n",
       "            | ChatOpenAI(client=<openai.resources.chat.completions.completions.Completions object at 0x0000023B0B7EC2D0>, async_client=<openai.resources.chat.completions.completions.AsyncCompletions object at 0x0000023B0C418D90>, root_client=<openai.OpenAI object at 0x0000023B0C40EA50>, root_async_client=<openai.AsyncOpenAI object at 0x0000023B0C40CD90>, model_name='gpt-4o', model_kwargs={}, openai_api_key=SecretStr('**********'))\n",
       "            | StrOutputParser(), kwargs={}, config={'run_name': 'stuff_documents_chain'}, config_factories=[])\n",
       "  }), kwargs={}, config={'run_name': 'retrieval_chain'}, config_factories=[])"
      ]
     },
     "execution_count": 16,
     "metadata": {},
     "output_type": "execute_result"
    }
   ],
   "source": [
    "retrieval_chain"
   ]
  },
  {
   "cell_type": "code",
   "execution_count": 17,
   "metadata": {},
   "outputs": [
    {
     "data": {
      "text/plain": [
       "'What information is provided about the plot of \"Ghaati\"?\\n\\nThe plot section mentions \"The story of a victim who turns into a criminal and later becomes a legend.\" It also notes that this section needs expansion as of September 2025.'"
      ]
     },
     "execution_count": 17,
     "metadata": {},
     "output_type": "execute_result"
    }
   ],
   "source": [
    "## Get the response form the LLM\n",
    "response=retrieval_chain.invoke({\"input\":\"LangSmith has two usage limits: total traces and extended\"})\n",
    "response['answer']"
   ]
  },
  {
   "cell_type": "code",
   "execution_count": 18,
   "metadata": {},
   "outputs": [
    {
     "data": {
      "text/plain": [
       "{'input': 'LangSmith has two usage limits: total traces and extended',\n",
       " 'context': [Document(id='a854188d-798a-4f55-b438-96285ad85fd5', metadata={'source': 'https://en.wikipedia.org/wiki/Ghaati', 'title': 'Ghaati - Wikipedia', 'language': 'en'}, page_content='Privacy policy\\nAbout Wikipedia\\nDisclaimers\\nContact Wikipedia\\nCode of Conduct\\nDevelopers\\nStatistics\\nCookie statement\\nMobile view\\n\\n\\n\\n\\n\\n\\n\\n\\n\\n\\n\\n\\n\\n\\nSearch\\n\\n\\n\\n\\n\\n\\n\\n\\n\\n\\n\\n\\n\\nSearch\\n\\n\\n\\n\\n\\n\\n\\n\\n\\nToggle the table of contents\\n\\n\\n\\n\\n\\n\\n\\nGhaati\\n\\n\\n\\n\\n\\n\\n\\n\\n\\n\\n\\n\\n\\n\\n\\n\\n\\n\\n\\n\\n\\n\\n\\n\\n\\n\\n\\n\\n\\n\\n\\n1 language\\n\\n\\nAdd topic'),\n",
       "  Document(id='9c033286-0ffe-4a18-8235-b140e06b8b81', metadata={'source': 'https://en.wikipedia.org/wiki/Ghaati', 'title': 'Ghaati - Wikipedia', 'language': 'en'}, page_content='Plot[edit]\\nThis section needs expansion with: September 2025. You can help by adding to it.  (September 2025)\\nThe story of a victim who turns into a criminal and later becomes a legend.'),\n",
       "  Document(id='c041d7df-7e26-40a3-931f-6ff6903d7a38', metadata={'source': 'https://en.wikipedia.org/wiki/Ghaati', 'title': 'Ghaati - Wikipedia', 'language': 'en'}, page_content='4.1\\nTheatrical\\n\\n\\n\\n\\n\\n\\n\\n\\n4.2\\nHome media\\n\\n\\n\\n\\n\\n\\n\\n\\n\\n\\n5\\nReception\\n\\n\\n\\n\\n\\n\\n\\n\\n6\\nReferences\\n\\n\\n\\n\\n\\n\\n\\n\\n7\\nExternal links\\n\\n\\n\\n\\n\\n\\n\\n\\n\\n\\n\\n\\n\\n\\n\\n\\n\\n\\nToggle the table of contents\\n\\n\\n\\n\\n\\n\\n\\nGhaati\\n\\n\\n\\n1 language\\n\\n\\n\\n\\nతెలుగు\\n\\nEdit links\\n\\n\\n\\n\\n\\n\\n\\n\\n\\n\\n\\nArticleTalk\\n\\n\\n\\n\\n\\nEnglish\\n\\n\\n\\n\\n\\n\\n\\n\\n\\n\\n\\n\\n\\n\\n\\n\\n\\nReadEditView history\\n\\n\\n\\n\\n\\n\\n\\nTools\\n\\n\\n\\n\\n\\nTools\\nmove to sidebar\\nhide\\n\\n\\n\\n\\t\\tActions\\n\\t\\n\\n\\nReadEditView history\\n\\n\\n\\n\\n\\n\\t\\tGeneral\\n\\t\\n\\n\\nWhat links hereRelated changesUpload filePermanent linkPage informationCite this pageGet shortened URLDownload QR code\\n\\n\\n\\n\\n\\n\\t\\tPrint/export\\n\\t\\n\\n\\nDownload as PDFPrintable version\\n\\n\\n\\n\\n\\n\\t\\tIn other projects\\n\\t\\n\\n\\nWikidata item\\n\\n\\n\\n\\n\\n\\n\\n\\n\\n\\n\\n\\n\\n\\n\\n\\n\\n\\n\\n\\n\\nAppearance\\nmove to sidebar\\nhide\\n\\n\\n\\n\\n\\n\\n\\n\\n\\n\\nFrom Wikipedia, the free encyclopedia\\n\\n\\n2025 Indian film by Krish Jagarlamudi'),\n",
       "  Document(id='4c24b32c-025e-4a87-a0b9-077758863240', metadata={'source': 'https://en.wikipedia.org/wiki/Ghaati', 'title': 'Ghaati - Wikipedia', 'language': 'en'}, page_content='Ghaati - Wikipedia\\n\\n\\n\\n\\n\\n\\n\\n\\n\\n\\n\\n\\n\\n\\n\\n\\n\\n\\n\\n\\n\\n\\n\\n\\n\\n\\n\\n\\n\\n\\nJump to content\\n\\n\\n\\n\\n\\n\\n\\nMain menu\\n\\n\\n\\n\\n\\nMain menu\\nmove to sidebar\\nhide\\n\\n\\n\\n\\t\\tNavigation\\n\\t\\n\\n\\nMain pageContentsCurrent eventsRandom articleAbout WikipediaContact us\\n\\n\\n\\n\\n\\n\\t\\tContribute\\n\\t\\n\\n\\nHelpLearn to editCommunity portalRecent changesUpload fileSpecial pages\\n\\n\\n\\n\\n\\n\\n\\n\\n\\n\\n\\n\\n\\n\\n\\n\\n\\n\\n\\nSearch\\n\\n\\n\\n\\n\\n\\n\\n\\n\\n\\n\\nSearch\\n\\n\\n\\n\\n\\n\\n\\n\\n\\n\\n\\n\\n\\n\\n\\n\\n\\n\\n\\n\\n\\n\\nAppearance\\n\\n\\n\\n\\n\\n\\n\\n\\n\\n\\n\\n\\n\\n\\n\\n\\nDonate\\n\\nCreate account\\n\\nLog in\\n\\n\\n\\n\\n\\n\\n\\n\\nPersonal tools\\n\\n\\n\\n\\n\\nDonate Create account Log in\\n\\n\\n\\n\\n\\n\\t\\tPages for logged out editors learn more\\n\\n\\n\\nContributionsTalk\\n\\n\\n\\n\\n\\n\\n\\n\\n\\n\\n\\n\\n\\n\\n\\n\\n\\n\\n\\n\\n\\n\\n\\n\\n\\n\\n\\n\\nContents\\nmove to sidebar\\nhide\\n\\n\\n\\n\\n(Top)\\n\\n\\n\\n\\n\\n1\\nPlot\\n\\n\\n\\n\\n\\n\\n\\n\\n2\\nCast\\n\\n\\n\\n\\n\\n\\n\\n\\n3\\nProduction\\n\\n\\n\\n\\nToggle Production subsection\\n\\n\\n\\n\\n\\n3.1\\nDevelopment\\n\\n\\n\\n\\n\\n\\n\\n\\n3.2\\nCasting\\n\\n\\n\\n\\n\\n\\n\\n\\n\\n\\n4\\nRelease\\n\\n\\n\\n\\nToggle Release subsection\\n\\n\\n\\n\\n\\n4.1\\nTheatrical\\n\\n\\n\\n\\n\\n\\n\\n\\n4.2\\nHome media\\n\\n\\n\\n\\n\\n\\n\\n\\n\\n\\n5\\nReception\\n\\n\\n\\n\\n\\n\\n\\n\\n6\\nReferences\\n\\n\\n\\n\\n\\n\\n\\n\\n7\\nExternal links\\n\\n\\n\\n\\n\\n\\n\\n\\n\\n\\n\\n\\n\\n\\n\\n\\n\\n\\nToggle the table of contents\\n\\n\\n\\n\\n\\n\\n\\nGhaati\\n\\n\\n\\n1 language\\n\\n\\n\\n\\nతెలుగు')],\n",
       " 'answer': 'What information is provided about the plot of \"Ghaati\"?\\n\\nThe plot section mentions \"The story of a victim who turns into a criminal and later becomes a legend.\" It also notes that this section needs expansion as of September 2025.'}"
      ]
     },
     "execution_count": 18,
     "metadata": {},
     "output_type": "execute_result"
    }
   ],
   "source": [
    "\n",
    "response"
   ]
  },
  {
   "cell_type": "code",
   "execution_count": 19,
   "metadata": {},
   "outputs": [
    {
     "data": {
      "text/plain": [
       "[Document(id='a854188d-798a-4f55-b438-96285ad85fd5', metadata={'source': 'https://en.wikipedia.org/wiki/Ghaati', 'title': 'Ghaati - Wikipedia', 'language': 'en'}, page_content='Privacy policy\\nAbout Wikipedia\\nDisclaimers\\nContact Wikipedia\\nCode of Conduct\\nDevelopers\\nStatistics\\nCookie statement\\nMobile view\\n\\n\\n\\n\\n\\n\\n\\n\\n\\n\\n\\n\\n\\n\\nSearch\\n\\n\\n\\n\\n\\n\\n\\n\\n\\n\\n\\n\\n\\nSearch\\n\\n\\n\\n\\n\\n\\n\\n\\n\\nToggle the table of contents\\n\\n\\n\\n\\n\\n\\n\\nGhaati\\n\\n\\n\\n\\n\\n\\n\\n\\n\\n\\n\\n\\n\\n\\n\\n\\n\\n\\n\\n\\n\\n\\n\\n\\n\\n\\n\\n\\n\\n\\n\\n1 language\\n\\n\\nAdd topic'),\n",
       " Document(id='9c033286-0ffe-4a18-8235-b140e06b8b81', metadata={'source': 'https://en.wikipedia.org/wiki/Ghaati', 'title': 'Ghaati - Wikipedia', 'language': 'en'}, page_content='Plot[edit]\\nThis section needs expansion with: September 2025. You can help by adding to it.  (September 2025)\\nThe story of a victim who turns into a criminal and later becomes a legend.'),\n",
       " Document(id='c041d7df-7e26-40a3-931f-6ff6903d7a38', metadata={'source': 'https://en.wikipedia.org/wiki/Ghaati', 'title': 'Ghaati - Wikipedia', 'language': 'en'}, page_content='4.1\\nTheatrical\\n\\n\\n\\n\\n\\n\\n\\n\\n4.2\\nHome media\\n\\n\\n\\n\\n\\n\\n\\n\\n\\n\\n5\\nReception\\n\\n\\n\\n\\n\\n\\n\\n\\n6\\nReferences\\n\\n\\n\\n\\n\\n\\n\\n\\n7\\nExternal links\\n\\n\\n\\n\\n\\n\\n\\n\\n\\n\\n\\n\\n\\n\\n\\n\\n\\n\\nToggle the table of contents\\n\\n\\n\\n\\n\\n\\n\\nGhaati\\n\\n\\n\\n1 language\\n\\n\\n\\n\\nతెలుగు\\n\\nEdit links\\n\\n\\n\\n\\n\\n\\n\\n\\n\\n\\n\\nArticleTalk\\n\\n\\n\\n\\n\\nEnglish\\n\\n\\n\\n\\n\\n\\n\\n\\n\\n\\n\\n\\n\\n\\n\\n\\n\\nReadEditView history\\n\\n\\n\\n\\n\\n\\n\\nTools\\n\\n\\n\\n\\n\\nTools\\nmove to sidebar\\nhide\\n\\n\\n\\n\\t\\tActions\\n\\t\\n\\n\\nReadEditView history\\n\\n\\n\\n\\n\\n\\t\\tGeneral\\n\\t\\n\\n\\nWhat links hereRelated changesUpload filePermanent linkPage informationCite this pageGet shortened URLDownload QR code\\n\\n\\n\\n\\n\\n\\t\\tPrint/export\\n\\t\\n\\n\\nDownload as PDFPrintable version\\n\\n\\n\\n\\n\\n\\t\\tIn other projects\\n\\t\\n\\n\\nWikidata item\\n\\n\\n\\n\\n\\n\\n\\n\\n\\n\\n\\n\\n\\n\\n\\n\\n\\n\\n\\n\\n\\nAppearance\\nmove to sidebar\\nhide\\n\\n\\n\\n\\n\\n\\n\\n\\n\\n\\nFrom Wikipedia, the free encyclopedia\\n\\n\\n2025 Indian film by Krish Jagarlamudi'),\n",
       " Document(id='4c24b32c-025e-4a87-a0b9-077758863240', metadata={'source': 'https://en.wikipedia.org/wiki/Ghaati', 'title': 'Ghaati - Wikipedia', 'language': 'en'}, page_content='Ghaati - Wikipedia\\n\\n\\n\\n\\n\\n\\n\\n\\n\\n\\n\\n\\n\\n\\n\\n\\n\\n\\n\\n\\n\\n\\n\\n\\n\\n\\n\\n\\n\\n\\nJump to content\\n\\n\\n\\n\\n\\n\\n\\nMain menu\\n\\n\\n\\n\\n\\nMain menu\\nmove to sidebar\\nhide\\n\\n\\n\\n\\t\\tNavigation\\n\\t\\n\\n\\nMain pageContentsCurrent eventsRandom articleAbout WikipediaContact us\\n\\n\\n\\n\\n\\n\\t\\tContribute\\n\\t\\n\\n\\nHelpLearn to editCommunity portalRecent changesUpload fileSpecial pages\\n\\n\\n\\n\\n\\n\\n\\n\\n\\n\\n\\n\\n\\n\\n\\n\\n\\n\\n\\nSearch\\n\\n\\n\\n\\n\\n\\n\\n\\n\\n\\n\\nSearch\\n\\n\\n\\n\\n\\n\\n\\n\\n\\n\\n\\n\\n\\n\\n\\n\\n\\n\\n\\n\\n\\n\\nAppearance\\n\\n\\n\\n\\n\\n\\n\\n\\n\\n\\n\\n\\n\\n\\n\\n\\nDonate\\n\\nCreate account\\n\\nLog in\\n\\n\\n\\n\\n\\n\\n\\n\\nPersonal tools\\n\\n\\n\\n\\n\\nDonate Create account Log in\\n\\n\\n\\n\\n\\n\\t\\tPages for logged out editors learn more\\n\\n\\n\\nContributionsTalk\\n\\n\\n\\n\\n\\n\\n\\n\\n\\n\\n\\n\\n\\n\\n\\n\\n\\n\\n\\n\\n\\n\\n\\n\\n\\n\\n\\n\\nContents\\nmove to sidebar\\nhide\\n\\n\\n\\n\\n(Top)\\n\\n\\n\\n\\n\\n1\\nPlot\\n\\n\\n\\n\\n\\n\\n\\n\\n2\\nCast\\n\\n\\n\\n\\n\\n\\n\\n\\n3\\nProduction\\n\\n\\n\\n\\nToggle Production subsection\\n\\n\\n\\n\\n\\n3.1\\nDevelopment\\n\\n\\n\\n\\n\\n\\n\\n\\n3.2\\nCasting\\n\\n\\n\\n\\n\\n\\n\\n\\n\\n\\n4\\nRelease\\n\\n\\n\\n\\nToggle Release subsection\\n\\n\\n\\n\\n\\n4.1\\nTheatrical\\n\\n\\n\\n\\n\\n\\n\\n\\n4.2\\nHome media\\n\\n\\n\\n\\n\\n\\n\\n\\n\\n\\n5\\nReception\\n\\n\\n\\n\\n\\n\\n\\n\\n6\\nReferences\\n\\n\\n\\n\\n\\n\\n\\n\\n7\\nExternal links\\n\\n\\n\\n\\n\\n\\n\\n\\n\\n\\n\\n\\n\\n\\n\\n\\n\\n\\nToggle the table of contents\\n\\n\\n\\n\\n\\n\\n\\nGhaati\\n\\n\\n\\n1 language\\n\\n\\n\\n\\nతెలుగు')]"
      ]
     },
     "execution_count": 19,
     "metadata": {},
     "output_type": "execute_result"
    }
   ],
   "source": [
    "response['context']"
   ]
  },
  {
   "cell_type": "code",
   "execution_count": null,
   "metadata": {},
   "outputs": [],
   "source": []
  }
 ],
 "metadata": {
  "kernelspec": {
   "display_name": "venv",
   "language": "python",
   "name": "python3"
  },
  "language_info": {
   "codemirror_mode": {
    "name": "ipython",
    "version": 3
   },
   "file_extension": ".py",
   "mimetype": "text/x-python",
   "name": "python",
   "nbconvert_exporter": "python",
   "pygments_lexer": "ipython3",
   "version": "3.11.5"
  }
 },
 "nbformat": 4,
 "nbformat_minor": 2
}
